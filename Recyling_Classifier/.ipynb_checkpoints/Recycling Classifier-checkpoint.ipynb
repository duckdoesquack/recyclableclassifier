{
 "cells": [
  {
   "cell_type": "code",
   "execution_count": 1,
   "id": "2f18e100-2b90-4dba-b2e1-c7a99f8086ec",
   "metadata": {
    "tags": []
   },
   "outputs": [],
   "source": [
    "from flask import Flask, render_template, session, send_file\n",
    "from flask_wtf import FlaskForm\n",
    "from flask_wtf.file import FileField, FileAllowed\n",
    "from wtforms import FileField, SubmitField\n",
    "from wtforms.validators import InputRequired\n",
    "from werkzeug.utils import secure_filename\n",
    "\n",
    "import re #removing the alpha numeric\n",
    "import cv2\n",
    "import os\n",
    "import urllib.request\n",
    "#%pip install -q \"openvino>=2023.1.0\""
   ]
  },
  {
   "cell_type": "code",
   "execution_count": 2,
   "id": "cfda6f83-e454-4d98-8deb-535e897d1f77",
   "metadata": {
    "tags": []
   },
   "outputs": [],
   "source": [
    "from pathlib import Path\n",
    "\n",
    "import matplotlib.pyplot as plt\n",
    "import numpy as np\n",
    "import openvino as ov\n",
    "\n",
    "# Fetch `notebook_utils` module\n",
    "import urllib.request\n",
    "urllib.request.urlretrieve(\n",
    "    url='https://raw.githubusercontent.com/openvinotoolkit/openvino_notebooks/main/notebooks/utils/notebook_utils.py',\n",
    "    filename='notebook_utils.py'\n",
    ")\n",
    "\n",
    "import notebook_utils as utils\n",
    "from notebook_utils import download_file"
   ]
  },
  {
   "cell_type": "code",
   "execution_count": 3,
   "id": "566f8a08-97a1-4bb6-b8c9-577699373cba",
   "metadata": {
    "tags": []
   },
   "outputs": [
    {
     "name": "stdout",
     "output_type": "stream",
     "text": [
      "v3-small_224_1.0_float already downloaded to model\n"
     ]
    }
   ],
   "source": [
    "base_model_dir = Path(\"model\").expanduser()\n",
    "\n",
    "model_name = \"v3-small_224_1.0_float\"\n",
    "model_xml_name = f'{model_name}.xml'\n",
    "model_bin_name = f'{model_name}.bin'\n",
    "\n",
    "model_xml_path = base_model_dir / model_xml_name\n",
    "\n",
    "base_url = 'https://storage.openvinotoolkit.org/repositories/openvino_notebooks/models/mobelinet-v3-tf/FP32/'\n",
    "\n",
    "if not model_xml_path.exists():\n",
    "    download_file(base_url + model_xml_name, model_xml_name, base_model_dir)\n",
    "    download_file(base_url + model_bin_name, model_bin_name, base_model_dir)\n",
    "else:\n",
    "    print(f'{model_name} already downloaded to {base_model_dir}')"
   ]
  },
  {
   "cell_type": "code",
   "execution_count": 4,
   "id": "66c44ded-e516-4213-b1f7-c45b6b7c58fb",
   "metadata": {
    "tags": []
   },
   "outputs": [
    {
     "data": {
      "application/vnd.jupyter.widget-view+json": {
       "model_id": "daa5589163134b8fb821d11ae08fb6a0",
       "version_major": 2,
       "version_minor": 0
      },
      "text/plain": [
       "Dropdown(description='Device:', index=3, options=('CPU', 'GPU.0', 'GPU.1', 'AUTO'), value='AUTO')"
      ]
     },
     "execution_count": 4,
     "metadata": {},
     "output_type": "execute_result"
    }
   ],
   "source": [
    "import ipywidgets as widgets\n",
    "\n",
    "core = ov.Core()\n",
    "device = widgets.Dropdown(\n",
    "    options=core.available_devices + [\"AUTO\"],\n",
    "    value='AUTO',\n",
    "    description='Device:',\n",
    "    disabled=False,\n",
    ")\n",
    "\n",
    "device"
   ]
  },
  {
   "cell_type": "code",
   "execution_count": 5,
   "id": "3a13b211-37af-49ed-a4c1-8f2e766f96bb",
   "metadata": {
    "tags": []
   },
   "outputs": [],
   "source": [
    "core = ov.Core()\n",
    "model = core.read_model(model=model_xml_path)\n",
    "compiled_model = core.compile_model(model=model, device_name=device.value)\n",
    "\n",
    "output_layer = compiled_model.output(0)"
   ]
  },
  {
   "cell_type": "code",
   "execution_count": 6,
   "id": "ffd1a7db-786b-4e44-a9ac-6acd2e4ac47b",
   "metadata": {
    "tags": []
   },
   "outputs": [],
   "source": [
    "app = Flask(__name__)\n",
    "app.config['SECRET_KEY'] = 'random_numbers_and_letters'\n",
    "app.config['UPLOAD_FOLDER'] = 'static/data'"
   ]
  },
  {
   "cell_type": "code",
   "execution_count": 7,
   "id": "cf6e1e01-1aa0-4452-b76f-410792294b5b",
   "metadata": {},
   "outputs": [],
   "source": [
    "class UploadFileForm(FlaskForm):\n",
    "    file = FileField('Image File', validators=[FileAllowed(['jpg', 'jpeg', 'png', 'gif'])])"
   ]
  },
  {
   "cell_type": "code",
   "execution_count": 8,
   "id": "cab2b4b2-728b-49fe-91f6-7773174fa0ff",
   "metadata": {
    "tags": []
   },
   "outputs": [],
   "source": [
    "@app.route('/', methods=['GET', 'POST'])\n",
    "def index():\n",
    "    form = UploadFileForm()\n",
    "    if form.validate_on_submit():\n",
    "        file = form.file.data\n",
    "        file_type = str(os.path.splitext(file.filename)[1])\n",
    "        session['file_type'] = file_type\n",
    "\n",
    "        if file_type in {'.jpg', '.jpeg', '.png', '.gif'}:\n",
    "            file_path = os.path.join(os.path.abspath(os.getcwd()), app.config['UPLOAD_FOLDER'], \"input.jpg\")\n",
    "            file.save(file_path)\n",
    "\n",
    "            return render_template('uploaded_image.html')\n",
    "\n",
    "    return render_template('index.html', form=form)"
   ]
  },
  {
   "cell_type": "code",
   "execution_count": 9,
   "id": "e7b170f8-0f86-42c8-8d96-a308e86b1f5d",
   "metadata": {
    "tags": []
   },
   "outputs": [],
   "source": [
    "# Download the image from the openvino_notebooks storage\n",
    "\n",
    "def image_inference(image_path):\n",
    "\n",
    "    image_filename = image_path\n",
    "\n",
    "    image = cv2.cvtColor(cv2.imread(filename=str(image_filename)), code = cv2.COLOR_BGR2RGB)\n",
    "\n",
    "    input_image = cv2.resize(src=image, dsize=(224, 224))\n",
    "\n",
    "    input_image = np.expand_dims(input_image, 0)\n",
    "    \n",
    "    result_infer = compiled_model([input_image])[output_layer]\n",
    "    result_index = np.argmax(result_infer)\n",
    "    \n",
    "    imagenet_filename = \"data/imagenet_2012.txt\"\n",
    "\n",
    "    if os.path.isfile(imagenet_filename):\n",
    "        with open(imagenet_filename, 'r') as file:\n",
    "            imagenet_classes = file.read().splitlines()\n",
    "            \n",
    "            # The model description states that for this model, class 0 is a background.\n",
    "            # Therefore, a background must be added at the beginning of imagenet_classes.\n",
    "        imagenet_classes = ['background'] + imagenet_classes\n",
    "                \n",
    "        prediction = imagenet_classes[result_index]\n",
    "        prediction_shortened = prediction[9:]\n",
    "        print(prediction_shortened)\n",
    "\n",
    "        recyclable_label_paper = ['n03291819 envelope']\n",
    "        recyclable_label_plastic = ['n03958227 plastic bag', 'n02877765 bottlecap', 'n03983396 pop bottle, soda bottle', 'n04557648 water bottle']\n",
    "        recyclable_label_glass = ['n02823428 beer bottle', 'n02823750 beer glass']\n",
    "        if prediction in recyclable_label_plastic:\n",
    "            result = \"Recyclable - Plastic\"\n",
    "            prediction = prediction_shortened\n",
    "        elif prediction in recyclable_label_paper:\n",
    "            prediction = prediction_shortened\n",
    "            result = \"Recyclable - Paper\"\n",
    "        elif prediction in recyclable_label_glass:\n",
    "            prediction = prediction_shortened\n",
    "            result = \"Recyclable - Glass\"\n",
    "        else:\n",
    "            prediction = prediction_shortened\n",
    "            result = \"Not Recyclable\" \n",
    "\n",
    "        print(\"Predicted Class:\", prediction)\n",
    "        print(\"Recyclability:\", result)\n",
    "        print(\"Probability:\", result_infer[0][result_index])\n",
    "    \n",
    "    else:\n",
    "        prediction = \"Error: Imagenet file not found\"\n",
    "            \n",
    "        # Render the image result template and pass the segmentation mask path to be displayed\n",
    "    return render_template(\"result.html\", prediction=prediction, result=result)"
   ]
  },
  {
   "cell_type": "code",
   "execution_count": 10,
   "id": "ae0556ab-eb5e-479a-91f4-01cd889b2321",
   "metadata": {},
   "outputs": [],
   "source": [
    "class UploadFileForm(FlaskForm):\n",
    "    file = FileField(\"File\", validators = [InputRequired()])\n",
    "    submit = SubmitField(\"Upload File\")"
   ]
  },
  {
   "cell_type": "code",
   "execution_count": 11,
   "id": "43ec1631-e472-4269-a5df-4e687808cf84",
   "metadata": {
    "tags": []
   },
   "outputs": [],
   "source": [
    "@app.route(\"/run_inference\")\n",
    "def run_inference():\n",
    "    file_type = session.get('file_type', None)\n",
    "    print(file_type)\n",
    "    if file_type in {'.jpg', '.jpeg', '.png', '.gif'}:\n",
    "        return image_inference(\"static/data/input.jpg\")\n",
    "        \n",
    "    return send_file(path, as_attachment=True) "
   ]
  },
  {
   "cell_type": "code",
   "execution_count": null,
   "id": "63ff3c1b-41d5-4f5f-9119-067cee0cb3b6",
   "metadata": {
    "tags": []
   },
   "outputs": [
    {
     "name": "stdout",
     "output_type": "stream",
     "text": [
      " * Serving Flask app '__main__'\n",
      " * Debug mode: off\n"
     ]
    },
    {
     "name": "stderr",
     "output_type": "stream",
     "text": [
      "WARNING: This is a development server. Do not use it in a production deployment. Use a production WSGI server instead.\n",
      " * Running on http://127.0.0.1:5000\n",
      "Press CTRL+C to quit\n",
      "127.0.0.1 - - [21/Apr/2024 18:02:06] \"GET / HTTP/1.1\" 200 -\n",
      "127.0.0.1 - - [21/Apr/2024 18:02:07] \"GET /static/assets/bin.png HTTP/1.1\" 404 -\n",
      "127.0.0.1 - - [21/Apr/2024 18:02:07] \"GET /static/css/styles.css HTTP/1.1\" 304 -\n",
      "127.0.0.1 - - [21/Apr/2024 18:02:07] \"GET /static/assets/logo_vertical.png HTTP/1.1\" 304 -\n",
      "127.0.0.1 - - [21/Apr/2024 18:02:09] \"POST / HTTP/1.1\" 200 -\n",
      "127.0.0.1 - - [21/Apr/2024 18:02:09] \"GET /static/css/styles.css HTTP/1.1\" 304 -\n",
      "127.0.0.1 - - [21/Apr/2024 18:02:09] \"GET /js/scripts.js HTTP/1.1\" 404 -\n",
      "127.0.0.1 - - [21/Apr/2024 18:02:09] \"GET /static/data/input.jpg HTTP/1.1\" 200 -\n",
      "127.0.0.1 - - [21/Apr/2024 18:02:09] \"GET /static/assets/logo_horizontal_white.png HTTP/1.1\" 304 -\n",
      "127.0.0.1 - - [21/Apr/2024 18:02:10] \"GET /run_inference HTTP/1.1\" 200 -\n",
      "127.0.0.1 - - [21/Apr/2024 18:02:10] \"GET /static/css/styles.css HTTP/1.1\" 304 -\n",
      "127.0.0.1 - - [21/Apr/2024 18:02:10] \"GET /static/data/input.jpg HTTP/1.1\" 304 -\n",
      "127.0.0.1 - - [21/Apr/2024 18:02:10] \"GET /static/assets/logo%20horizontal_white.png HTTP/1.1\" 404 -\n",
      "127.0.0.1 - - [21/Apr/2024 18:02:10] \"GET /static/data/recycling_bin.jpg HTTP/1.1\" 304 -\n"
     ]
    },
    {
     "name": "stdout",
     "output_type": "stream",
     "text": [
      ".jpg\n",
      " envelope\n",
      "Predicted Class:  envelope\n",
      "Recyclability: Recyclable - Paper\n",
      "Probability: 0.11592965\n"
     ]
    }
   ],
   "source": [
    "if __name__ == '__main__':\n",
    "    app.run()"
   ]
  },
  {
   "cell_type": "code",
   "execution_count": null,
   "id": "375a10f5-49f5-46ab-8200-5aecb69ec17a",
   "metadata": {},
   "outputs": [],
   "source": []
  }
 ],
 "metadata": {
  "kernelspec": {
   "display_name": "Python 3 (ipykernel)",
   "language": "python",
   "name": "python3"
  },
  "language_info": {
   "codemirror_mode": {
    "name": "ipython",
    "version": 3
   },
   "file_extension": ".py",
   "mimetype": "text/x-python",
   "name": "python",
   "nbconvert_exporter": "python",
   "pygments_lexer": "ipython3",
   "version": "3.11.7"
  }
 },
 "nbformat": 4,
 "nbformat_minor": 5
}
