from flask import Flask, render_template, session, send_file
from flask_wtf import FlaskForm
from flask_wtf.file import FileField, FileAllowed
from wtforms import FileField, SubmitField
from wtforms.validators import InputRequired
from werkzeug.utils import secure_filename

import re #removing the alpha numeric
import cv2
import os
import urllib.request
#%pip install -q "openvino>=2023.1.0"


from pathlib import Path

import matplotlib.pyplot as plt
import numpy as np
import openvino as ov

# Fetch `notebook_utils` module
import urllib.request
urllib.request.urlretrieve(
    url='https://raw.githubusercontent.com/openvinotoolkit/openvino_notebooks/main/notebooks/utils/notebook_utils.py',
    filename='notebook_utils.py'
)

import notebook_utils as utils
from notebook_utils import download_file


base_model_dir = Path("model").expanduser()

model_name = "v3-small_224_1.0_float"
model_xml_name = f'{model_name}.xml'
model_bin_name = f'{model_name}.bin'

model_xml_path = base_model_dir / model_xml_name

base_url = 'https://storage.openvinotoolkit.org/repositories/openvino_notebooks/models/mobelinet-v3-tf/FP32/'

if not model_xml_path.exists():
    download_file(base_url + model_xml_name, model_xml_name, base_model_dir)
    download_file(base_url + model_bin_name, model_bin_name, base_model_dir)
else:
    print(f'{model_name} already downloaded to {base_model_dir}')


import ipywidgets as widgets

core = ov.Core()
device = widgets.Dropdown(
    options=core.available_devices + ["AUTO"],
    value='AUTO',
    description='Device:',
    disabled=False,
)

device


core = ov.Core()
model = core.read_model(model=model_xml_path)
compiled_model = core.compile_model(model=model, device_name=device.value)

output_layer = compiled_model.output(0)


app = Flask(__name__)
app.config['SECRET_KEY'] = 'random_numbers_and_letters'
app.config['UPLOAD_FOLDER'] = 'static/data'


class UploadFileForm(FlaskForm):
    file = FileField('Image File', validators=[FileAllowed(['jpg', 'jpeg', 'png', 'gif'])])


@app.route('/', methods=['GET', 'POST'])
def index():
    form = UploadFileForm()
    if form.validate_on_submit():
        file = form.file.data
        file_type = str(os.path.splitext(file.filename)[1])
        session['file_type'] = file_type

        if file_type in {'.jpg', '.jpeg', '.png', '.gif'}:
            file_path = os.path.join(os.path.abspath(os.getcwd()), app.config['UPLOAD_FOLDER'], "input.jpg")
            file.save(file_path)

            return render_template('uploaded_image.html')

    return render_template('index.html', form=form)


# Download the image from the openvino_notebooks storage

def image_inference(image_path):

    image_filename = image_path

    image = cv2.cvtColor(cv2.imread(filename=str(image_filename)), code = cv2.COLOR_BGR2RGB)

    input_image = cv2.resize(src=image, dsize=(224, 224))

    input_image = np.expand_dims(input_image, 0)
    
    result_infer = compiled_model([input_image])[output_layer]
    result_index = np.argmax(result_infer)
    
    imagenet_filename = "data/imagenet_2012.txt"

    if os.path.isfile(imagenet_filename):
        with open(imagenet_filename, 'r') as file:
            imagenet_classes = file.read().splitlines()
            
            # The model description states that for this model, class 0 is a background.
            # Therefore, a background must be added at the beginning of imagenet_classes.
        imagenet_classes = ['background'] + imagenet_classes
                
        prediction = imagenet_classes[result_index]
        prediction_shortened = prediction[9:]
        print(prediction_shortened)

        recyclable_label_paper = ['n03291819 envelope']
        recyclable_label_plastic = ['n03958227 plastic bag', 'n02877765 bottlecap', 'n03983396 pop bottle, soda bottle', 'n04557648 water bottle']
        recyclable_label_glass = ['n02823428 beer bottle', 'n02823750 beer glass']
        if prediction in recyclable_label_plastic:
            result = "Recyclable - Plastic"
            prediction = prediction_shortened
        elif prediction in recyclable_label_paper:
            prediction = prediction_shortened
            result = "Recyclable - Paper"
        elif prediction in recyclable_label_glass:
            prediction = prediction_shortened
            result = "Recyclable - Glass"
        else:
            prediction = prediction_shortened
            result = "Not Recyclable" 

        print("Predicted Class:", prediction)
        print("Recyclability:", result)
        print("Probability:", result_infer[0][result_index])
    
    else:
        prediction = "Error: Imagenet file not found"
            
        # Render the image result template and pass the segmentation mask path to be displayed
    return render_template("result.html", prediction=prediction, result=result)


class UploadFileForm(FlaskForm):
    file = FileField("File", validators = [InputRequired()])
    submit = SubmitField("Upload File")


@app.route("/run_inference")
def run_inference():
    file_type = session.get('file_type', None)
    print(file_type)
    if file_type in {'.jpg', '.jpeg', '.png', '.gif'}:
        return image_inference("static/data/input.jpg")
        
    return send_file(path, as_attachment=True) 


if __name__ == '__main__':
    app.run()



